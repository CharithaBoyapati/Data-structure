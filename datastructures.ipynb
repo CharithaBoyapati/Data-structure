{
  "nbformat": 4,
  "nbformat_minor": 0,
  "metadata": {
    "colab": {
      "private_outputs": true,
      "provenance": []
    },
    "kernelspec": {
      "name": "python3",
      "display_name": "Python 3"
    },
    "language_info": {
      "name": "python"
    }
  },
  "cells": [
    {
      "cell_type": "code",
      "execution_count": null,
      "metadata": {
        "id": "Z6PVCUgW432z"
      },
      "outputs": [],
      "source": []
    },
    {
      "cell_type": "markdown",
      "source": [
        "1. What are data structures, and why are they important?\n",
        "   - Data structures are fundamental organizational formats used to store and manage data efficiently in computer systems.\n",
        "   -Their importance lies in their impact on program performance and efficiency.\n",
        "2. Explain the difference between mutable and immutable data types with examples\n",
        "   - In Python, objects can be classified as either mutable or immutable based on whether their internal state can be changed after creation. Understanding this distinction is crucial for effective programming in Python.\n",
        "\n",
        "   - Immutable Objects\n",
        "\n",
        "     Immutable objects are those whose state cannot be modified after they are created. Examples of immutable objects include:\n",
        "\n",
        "     Numbers (int, float, bool)\n",
        "\n",
        "     Strings\n",
        "\n",
        "     Tuples\n",
        "\n",
        "     Frozen sets\n",
        "\n",
        "     When you try to modify an immutable object, Python creates a new object and assigns the new value to it. For instance:\n",
        "\n",
        "     # Immutable example with integers\n",
        "       counter = 100\n",
        "       print(id(counter)) # Memory address of the integer object\n",
        "\n",
        "      counter = 200\n",
        "      print(id(counter)) # New memory address for the new integer object\n",
        "      In this example, assigning a new value to counter creates a new integer object rather than modifying the existing one.\n",
        "\n",
        "     - Mutable Objects\n",
        "\n",
        "      Mutable objects are those whose state can be changed after they are created. Examples of mutable objects include:\n",
        "\n",
        "     Lists\n",
        "\n",
        "     Dictionaries\n",
        "\n",
        "     Sets\n",
        "\n",
        "     For instance, modifying a list does not create a new list but changes the existing one:\n",
        "\n",
        "     # Mutable example with lists\n",
        "       ratings = [1, 2, 3]\n",
        "       print(id(ratings)) # Memory address of the list object\n",
        "\n",
        "      ratings.append(4)\n",
        "      print(id(ratings)) # Same memory address, list modified in place\n",
        "     Here, the list ratings is modified in place, and its memory address\n",
        "\n",
        " 3.  What are the main differences between lists and tuples in Python\n",
        "     - The main difference between lists and tuples are:\n",
        "        syntax\n",
        "        mutability\n",
        "        memory usage\n",
        "        performance\n",
        "        methods\n",
        " 4. Describe how dictionaries store data\n",
        "     - Dictionaries in programming languages (like Python, Java, etc.) are data structures that store data in key-value pairs, allowing for efficient data retrieval.\n",
        "\n",
        "    - Key-Value Structure\n",
        "     Keys: Unique identifiers used to access values. Each key must be immutable (e.g., strings, numbers).\n",
        "     Values: The data associated with each key. Values can be of any data type.       "
      ],
      "metadata": {
        "id": "gzWg24bq440l"
      }
    },
    {
      "cell_type": "code",
      "source": [],
      "metadata": {
        "id": "ME8QUmQJ9bpg"
      },
      "execution_count": null,
      "outputs": []
    },
    {
      "cell_type": "markdown",
      "source": [
        " 5. Why might you use a set instead of a list in Python\n",
        "    - uniqueness\n",
        "    -  performance\n",
        "    -  mathematical operations\n",
        "    -  unordered collection\n",
        "    - cleaner code\n",
        " 6. What is a string in Python, and how is it different from a list\n",
        "    -  A string in Python is a sequence of characters enclosed within single quotes ('), double quotes (\"), or triple quotes (''' or \"\"\"). Strings are immutable, meaning once you create a string, you cannot change its content.   \n",
        " 7.  How do tuples ensure data integrity in Python\n",
        "     -  In Python, tuples are immutable sequences, meaning that once a tuple is created, its contents cannot be changed (you can’t add, remove, or modify elements). This immutability contributes to data integrity in several ways:\n",
        "     - prevention of modification\n",
        "     - hashability\n",
        "     - encapsulation of data\n",
        "8.  What is a hash table, and how does it relate to dictionaries in Python\n",
        "    -     In Python, dictionaries (or dict) are implemented using hash tables. Each key-value pair in a dictionary is stored using the key's hash value, allowing for rapid access to values based on their keys.\n",
        "9.  Can lists contain different data types in Python\n",
        "    -   integer\n",
        "    -  a string\n",
        "    -  a float\n",
        "    -  a boolean\n",
        "    -  and a None value\n",
        "10. Explain why strings are immutable in Python\n",
        "   - the immutability of strings in Python enhances security, optimizes memory management, promotes thread safety, and aligns with functional programming principles. These characteristics make strings more predictable and manageable in a wide range of programming scenarios.\n",
        "11.  What advantages do dictionaries offer over lists for certain tasks\n",
        "    - dictionaries excel over lists in scenarios where you need fast access to values using descriptive keys, require efficient data modification, or need to structure data in a way that enhances readability and maintainability.\n",
        "12.  Describe a scenario where using a tuple would be preferable over a list\n",
        "   -   Scenario: Storing Geographical Coordinates\n",
        "Context: Imagine you're developing a mapping application that needs to store geographical coordinates for various locations. Each location can be represented by a pair of latitude and longitude values.  \n",
        "13.  How do sets handle duplicate values in Python\n",
        "    - Sets in Python efficiently manage duplicate values by only storing unique elements. This feature, combined with fast membership testing and support for mathematical operations, makes sets a powerful tool for handling collections of distinct items.\n",
        "14.  How does the “in” keyword work differently for lists and dictionaries\n",
        "   -    When in is used with a dictionary, it checks whether the specified key exists within the dictionary’s keys.\n",
        "  -    The in operator traverses the list and checks each element for equality with the specified value.\n",
        "15.  Can you modify the elements of a tuple? Explain why or why not\n",
        "   -   No, you cannot modify the elements of a tuple in Python. This is because tuples are immutable data structures. Once a tuple is created, its content cannot be changed, meaning you cannot add, remove, or alter the elements within it.\n",
        "   - reasons are\n",
        "     - design choice  \n",
        "     - performance\n",
        "     - data integrity\n",
        "16. What is a nested dictionary, and give an example of its use case\n",
        "   -   A nested dictionary in Python is a dictionary that contains other dictionaries as its values. This allows you to create a multi-level data structure where you can store more complex relationships in a hierarchical manner. Nested dictionaries are particularly useful when you want to group related data or represent structured information.\n",
        "\n",
        "     Example of a Nested Dictionary\n",
        "     Consider a scenario where we want to store information about multiple students, including their grades in different subjects. We can use a nested dictionary where each student's name is a key, and the value is another dictionary containing subjects and grades.\n",
        "17.  Describe the time complexity of accessing elements in a dictionary\n",
        "   -  Average Time Complexity: O(1) for accessing elements.\n",
        "Worst-Case Time Complexity: O(n) due to potential collisions and resizing.\n",
        "The amortized complexity remains O(1) for insertions and lookups over time because these costly operations happen infrequently relative to the number of total operations performed.\n",
        "18.  In what situations are lists preferred over dictionaries\n",
        "   - ordered collections\n",
        "   - accessing elements by index\n",
        "   - simple data structures\n",
        "   - dynamic size\n",
        "19. Why are dictionaries considered unordered, and how does that affect data retrieval\n",
        "   -    Dictionaries in Python are considered unordered collections because they do not maintain the order of their elements. This characteristic is inherent to how dictionaries are implemented, primarily via hash tables.\n",
        "   - mainly affected by\n",
        "     - hash table implementation\n",
        "     - key hasing\n",
        "20.  Explain the difference between a list and a dictionary in terms of data retrieval.\n",
        "     - Access Method: Lists use integer indices for data retrieval, while dictionaries use key-value pairs.\n",
        "     Efficiency: Both have average-case O(1) access times for retrieval, but lists can be slower when searching for elements without known indices.\n",
        "     Use Cases: Lists are preferred for ordered collections where positional access is important, while dictionaries are better for associative arrays where quick access via unique keys is required.\n",
        "      \n",
        "\n",
        "\n",
        "\n",
        "\n"
      ],
      "metadata": {
        "id": "ynksYY6i9cmI"
      }
    },
    {
      "cell_type": "markdown",
      "source": [
        "\n"
      ],
      "metadata": {
        "id": "BF04XOhOBmH-"
      }
    },
    {
      "cell_type": "markdown",
      "source": [
        "PRATICAL ANSWERS\n"
      ],
      "metadata": {
        "id": "1Dhg3e2eBx5U"
      }
    },
    {
      "cell_type": "code",
      "source": [
        " #1. Write a code to create a string with your name and print it\n",
        " '''this is answer'''\n",
        " # Creating a string with my name\n",
        "my_name = \"physics wallah\"\n",
        "\n",
        "# Printing the name\n",
        "print(my_name)\n",
        "\n",
        "\n"
      ],
      "metadata": {
        "id": "_713wOBjB1gW"
      },
      "execution_count": null,
      "outputs": []
    },
    {
      "cell_type": "code",
      "source": [
        "# 2. Write a code to find the length of the string \"Hello World\"\n",
        "# Define the string\n",
        "my_string = \"physics wallah\"\n",
        "\n",
        "# Find the length of the string\n",
        "length_of_string = len(my_string)\n",
        "\n",
        "# Print the length\n",
        "print(length_of_string)"
      ],
      "metadata": {
        "id": "xV6t2QpNDF4p"
      },
      "execution_count": null,
      "outputs": []
    },
    {
      "cell_type": "code",
      "source": [
        "#3. Write a code to slice the first 3 characters from the string \"Python Programming\"\n",
        "# Define the string\n",
        "my_string = \"Python Programming\"\n",
        "\n",
        "# Slice the first 3 characters\n",
        "sliced_string = my_string[:3]\n",
        "\n",
        "# Print the sliced string\n",
        "print(sliced_string)\n"
      ],
      "metadata": {
        "id": "KEFMtcF-DoHo"
      },
      "execution_count": null,
      "outputs": []
    },
    {
      "cell_type": "code",
      "source": [
        " #4.Write a code to convert the string \"hello\" to uppercase\n",
        "# Define the string\n",
        "my_string = \"hello\"\n",
        "\n",
        "# Convert the string to uppercase\n",
        "upper_string = my_string.upper()\n",
        "\n",
        "# Print the uppercase string\n",
        "print(upper_string)"
      ],
      "metadata": {
        "id": "zBE83NrWD3q2"
      },
      "execution_count": null,
      "outputs": []
    },
    {
      "cell_type": "code",
      "source": [
        "# 5.Write a code to replace the word \"apple\" with \"orange\" in the string \"I like apple\"\n",
        "# Define the original string\n",
        "original_string = \"I like apple\"\n",
        "\n",
        "# Replace \"apple\" with \"orange\"\n",
        "modified_string = original_string.replace(\"apple\", \"orange\")\n",
        "\n",
        "# Print the modified string\n",
        "print(modified_string)"
      ],
      "metadata": {
        "id": "gNMJBPlXEBqO"
      },
      "execution_count": null,
      "outputs": []
    },
    {
      "cell_type": "code",
      "source": [
        "#6. Write a code to create a list with numbers 1 to 5 and print it\n",
        "# Create a list with numbers from 1 to 5\n",
        "number_list = [1, 2, 3, 4, 5]\n",
        "\n",
        "# Print the list\n",
        "print(number_list)"
      ],
      "metadata": {
        "id": "17JeVTALEJzr"
      },
      "execution_count": null,
      "outputs": []
    },
    {
      "cell_type": "code",
      "source": [
        "#7. Write a code to append the number 10 to the list [1, 2, 3, 4]\n",
        "# Define the original list\n",
        "number_list = [1, 2, 3, 4]\n",
        "\n",
        "# Append the number 10 to the list\n",
        "number_list.append(10)\n",
        "\n",
        "# Print the modified list\n",
        "print(number_list)"
      ],
      "metadata": {
        "id": "crpB3_XsEY2_"
      },
      "execution_count": null,
      "outputs": []
    },
    {
      "cell_type": "code",
      "source": [
        "#8. Write a code to remove the number 3 from the list [1, 2, 3, 4, 5]\n",
        "# Define the original list\n",
        "number_list = [1, 2, 3, 4, 5]\n",
        "\n",
        "# Remove the number 3 from the list\n",
        "number_list.remove(3)\n",
        "\n",
        "# Print the modified list\n",
        "print(number_list)"
      ],
      "metadata": {
        "id": "ndDQp--QEgCP"
      },
      "execution_count": null,
      "outputs": []
    },
    {
      "cell_type": "code",
      "source": [
        "#9. Write a code to access the second element in the list ['a', 'b', 'c', 'd']\n",
        "# Define the list\n",
        "my_list = ['a', 'b', 'c', 'd']\n",
        "\n",
        "# Access the second element\n",
        "second_element = my_list[1]\n",
        "\n",
        "# Print the second element\n",
        "print(second_element)"
      ],
      "metadata": {
        "id": "FNMk889LEpdh"
      },
      "execution_count": null,
      "outputs": []
    },
    {
      "cell_type": "code",
      "source": [
        "#10. Write a code to reverse the list [10, 20, 30, 40, 50].\n",
        "# Define the original list\n",
        "number_list = [10, 20, 30, 40, 50]\n",
        "\n",
        "# Reverse the list in place\n",
        "number_list.reverse()\n",
        "\n",
        "# Print the reversed list\n",
        "print(number_list)"
      ],
      "metadata": {
        "id": "9315-pabEyLc"
      },
      "execution_count": null,
      "outputs": []
    },
    {
      "cell_type": "code",
      "source": [
        "#11. Write a code to create a tuple with the elements 100, 200, 300 and print it.\n",
        "# Create a tuple with the elements 100, 200, 300\n",
        "my_tuple = (100, 200, 300)\n",
        "\n",
        "# Print the tuple\n",
        "print(my_tuple)"
      ],
      "metadata": {
        "id": "QlrkyaifE5t_"
      },
      "execution_count": null,
      "outputs": []
    },
    {
      "cell_type": "code",
      "source": [
        "# 12. Write a code to access the second-to-last element of the tuple ('red', 'green', 'blue', 'yellow').\n",
        "# Define the tuple\n",
        "my_tuple = ('red', 'green', 'blue', 'yellow')\n",
        "\n",
        "# Access the second-to-last element\n",
        "second_to_last_element = my_tuple[-2]\n",
        "\n",
        "# Print the second-to-last element\n",
        "print(second_to_last_element)"
      ],
      "metadata": {
        "id": "8YCFyapTFJU0"
      },
      "execution_count": null,
      "outputs": []
    },
    {
      "cell_type": "code",
      "source": [
        "# 13. Write a code to find the minimum number in the tuple (10, 20, 5, 15).\n",
        "# Define the tuple\n",
        "my_tuple = (10, 20, 5, 15)\n",
        "\n",
        "# Find the minimum number in the tuple\n",
        "minimum_number = min(my_tuple)\n",
        "\n",
        "# Print the minimum number\n",
        "print(minimum_number)"
      ],
      "metadata": {
        "id": "QdV1MLztFT9y"
      },
      "execution_count": null,
      "outputs": []
    },
    {
      "cell_type": "code",
      "source": [
        "# 14. Write a code to find the index of the element \"cat\" in the tuple ('dog', 'cat', 'rabbit').\n",
        "# Define the tuple\n",
        "my_tuple = ('dog', 'cat', 'rabbit')\n",
        "\n",
        "# Find the index of the element \"cat\"\n",
        "index_of_cat = my_tuple.index('cat')\n",
        "\n",
        "# Print the index\n",
        "print(index_of_cat)"
      ],
      "metadata": {
        "id": "Zyo9JrGYFanl"
      },
      "execution_count": null,
      "outputs": []
    },
    {
      "cell_type": "code",
      "source": [
        "# 15. Write a code to create a tuple containing three different fruits and check if \"kiwi\" is in it.\n",
        "# Create a tuple containing three different fruits\n",
        "fruits = ('apple', 'banana', 'orange')\n",
        "\n",
        "# Check if \"kiwi\" is in the tuple\n",
        "is_kiwi_in_tuple = 'kiwi' in fruits\n",
        "\n",
        "# Print the result\n",
        "print(is_kiwi_in_tuple)"
      ],
      "metadata": {
        "id": "0DRUcmLcFjdK"
      },
      "execution_count": null,
      "outputs": []
    },
    {
      "cell_type": "code",
      "source": [
        "# 16. Write a code to create a set with the elements 'a', 'b', 'c' and print it.\n",
        "# Create a set using curly braces\n",
        "my_set = {'a', 'b', 'c'}\n",
        "\n",
        "# Print the set\n",
        "print(my_set)"
      ],
      "metadata": {
        "id": "F4_hbwy4Fq0f"
      },
      "execution_count": null,
      "outputs": []
    },
    {
      "cell_type": "code",
      "source": [
        "# 17. Write a code to clear all elements from the set {1, 2, 3, 4, 5}.\n",
        "# Create a set with elements 1, 2, 3, 4, 5\n",
        "my_set = {1, 2, 3, 4, 5}\n",
        "\n",
        "# Clear all elements from the set\n",
        "my_set.clear()\n",
        "\n",
        "# Print the set after clearing\n",
        "print(my_set)"
      ],
      "metadata": {
        "id": "aljgGq8JF14C"
      },
      "execution_count": null,
      "outputs": []
    },
    {
      "cell_type": "code",
      "source": [
        "# 18. Write a code to remove the element 4 from the set {1, 2, 3, 4}.\n",
        "# Create a set with elements 1, 2, 3, 4\n",
        "my_set = {1, 2, 3, 4}\n",
        "\n",
        "# Remove the element 4 from the set\n",
        "my_set.remove(4)\n",
        "\n",
        "# Print the set after removal\n",
        "print(my_set)"
      ],
      "metadata": {
        "id": "G6DZCbNhF87k"
      },
      "execution_count": null,
      "outputs": []
    },
    {
      "cell_type": "code",
      "source": [
        "# 19. Write a code to find the union of two sets {1, 2, 3} and {3, 4, 5}.\n",
        "# Define the two sets\n",
        "set_a = {1, 2, 3}\n",
        "set_b = {3, 4, 5}\n",
        "\n",
        "# Find the union of the two sets\n",
        "union_set = set_a.union(set_b)\n",
        "\n",
        "# Print the union set\n",
        "print(union_set)"
      ],
      "metadata": {
        "id": "_53izzloGF3O"
      },
      "execution_count": null,
      "outputs": []
    },
    {
      "cell_type": "code",
      "source": [
        "# 20. Write a code to find the intersection of two sets {1, 2, 3} and {2, 3, 4}.\n",
        "# Define the two sets\n",
        "set_a = {1, 2, 3}\n",
        "set_b = {2, 3, 4}\n",
        "\n",
        "# Find the intersection of the two sets\n",
        "intersection_set = set_a.intersection(set_b)\n",
        "\n",
        "# Print the intersection set\n",
        "print(intersection_set)"
      ],
      "metadata": {
        "id": "VDwtjkJMGNrg"
      },
      "execution_count": null,
      "outputs": []
    },
    {
      "cell_type": "code",
      "source": [
        "# 21. Write a code to create a dictionary with the keys \"name\", \"age\", and \"city\", and print it.\n",
        "# Create a dictionary\n",
        "my_dict = {\n",
        "    \"name\": \"Alice\",\n",
        "    \"age\": 30,\n",
        "    \"city\": \"New York\"\n",
        "}\n",
        "\n",
        "# Print the dictionary\n",
        "print(my_dict)"
      ],
      "metadata": {
        "id": "TNCHq-WRGVah"
      },
      "execution_count": null,
      "outputs": []
    },
    {
      "cell_type": "code",
      "source": [
        "# 22. Write a code to add a new key-value pair \"country\": \"USA\" to the dictionary {'name': 'John', 'age': 25}.\n",
        "# Existing dictionary\n",
        "my_dict = {'name': 'John', 'age': 25}\n",
        "\n",
        "# Add a new key-value pair\n",
        "my_dict['country'] = 'USA'\n",
        "\n",
        "# Print the updated dictionary\n",
        "print(my_dict)"
      ],
      "metadata": {
        "id": "Jhq9lrl_G1K1"
      },
      "execution_count": null,
      "outputs": []
    },
    {
      "cell_type": "code",
      "source": [
        "# 23. Write a code to access the value associated with the key \"name\" in the dictionary {'name': 'Alice', 'age': 30}.\n",
        "# Define the dictionary\n",
        "my_dict = {'name': 'Alice', 'age': 30}\n",
        "\n",
        "# Access the value associated with the key \"name\"\n",
        "name_value = my_dict['name']\n",
        "\n",
        "# Print the value\n",
        "print(name_value)"
      ],
      "metadata": {
        "id": "-9oFDmxgG9Cf"
      },
      "execution_count": null,
      "outputs": []
    },
    {
      "cell_type": "code",
      "source": [
        "# 24. Write a code to remove the key \"age\" from the dictionary {'name': 'Bob', 'age': 22, 'city': 'New York'}.\n",
        "# Define the dictionary\n",
        "my_dict = {'name': 'Bob', 'age': 22, 'city': 'New York'}\n",
        "\n",
        "# Remove the key \"age\" using pop()\n",
        "removed_value = my_dict.pop('age')\n",
        "\n",
        "# Print the updated dictionary and the removed value\n",
        "print(my_dict)             # Updated dictionary\n",
        "print(removed_value)      # Value of the removed key"
      ],
      "metadata": {
        "id": "YqmCwQvaHHE5"
      },
      "execution_count": null,
      "outputs": []
    },
    {
      "cell_type": "code",
      "source": [
        "# 25. Write a code to check if the key \"city\" exists in the dictionary {'name': 'Alice', 'city': 'Paris'}.\n",
        "# Define the dictionary\n",
        "my_dict = {'name': 'Alice', 'city': 'Paris'}\n",
        "\n",
        "# Check if the key \"city\" exists in the dictionary\n",
        "key_exists = 'city' in my_dict\n",
        "\n",
        "# Print the result\n",
        "print(key_exists)"
      ],
      "metadata": {
        "id": "qaAC4GzpHPXG"
      },
      "execution_count": null,
      "outputs": []
    },
    {
      "cell_type": "code",
      "source": [
        "# 26. Write a code to create a list, a tuple, and a dictionary, and print them all.\n",
        "# Create a list\n",
        "my_list = [1, 2, 3, 4, 5]\n",
        "\n",
        "# Create a tuple\n",
        "my_tuple = (10, 20, 30)\n",
        "\n",
        "# Create a dictionary\n",
        "my_dict = {\n",
        "    'name': 'Alice',\n",
        "    'age': 28,\n",
        "    'city': 'New York'\n",
        "}\n",
        "\n",
        "# Print the list, tuple, and dictionary\n",
        "print(\"List:\", my_list)\n",
        "print(\"Tuple:\", my_tuple)\n",
        "print(\"Dictionary:\", my_dict)"
      ],
      "metadata": {
        "id": "DLw5DmT_HWOY"
      },
      "execution_count": null,
      "outputs": []
    },
    {
      "cell_type": "code",
      "source": [
        "# 27. Write a code to create a list of 5 random numbers between 1 and 100, sort it in ascending order, and print the  result.(replaced)\n",
        "import random\n",
        "\n",
        "# Create a list of 5 random numbers between 1 and 100\n",
        "random_numbers = [random.randint(1, 100) for _ in range(5)]\n",
        "\n",
        "# Sort the list in ascending order\n",
        "random_numbers.sort()\n",
        "\n",
        "# Print the sorted list\n",
        "print(\"Sorted List of Random Numbers:\", random_numbers)"
      ],
      "metadata": {
        "id": "YpXwq_mGHpNu"
      },
      "execution_count": null,
      "outputs": []
    },
    {
      "cell_type": "code",
      "source": [
        "#28. Write a code to create a list with strings and print the element at the third index.\n",
        "# Create a list of strings\n",
        "string_list = ['apple', 'banana', 'cherry', 'date', 'elderberry']\n",
        "\n",
        "# Print the element at the third index\n",
        "print(\"Element at index 3:\", string_list[3])"
      ],
      "metadata": {
        "id": "UyV_1oFLH-EF"
      },
      "execution_count": null,
      "outputs": []
    },
    {
      "cell_type": "code",
      "source": [
        "# 29. Write a code to combine two dictionaries into one and print the result.\n",
        "# Define the first dictionary\n",
        "dict1 = {'name': 'Alice', 'age': 30}\n",
        "\n",
        "# Define the second dictionary\n",
        "dict2 = {'city': 'New York', 'country': 'USA'}\n",
        "\n",
        "# Method 1: Using dictionary unpacking (Python 3.5+)\n",
        "combined_dict = {**dict1, **dict2}\n",
        "\n",
        "# Print the combined dictionary\n",
        "print(\"Combined Dictionary (using unpacking):\", combined_dict)\n",
        "\n",
        "# Method 2: Using the update() method\n",
        "dict1.update(dict2)\n",
        "\n",
        "# Print the updated dictionary\n",
        "print(\"Combined Dictionary (using update):\", dict1)"
      ],
      "metadata": {
        "id": "f3JtF9L9Ibg-"
      },
      "execution_count": null,
      "outputs": []
    },
    {
      "cell_type": "code",
      "source": [
        "# 30. Write a code to convert a list of strings into a set.\n",
        "# Create a list of strings\n",
        "string_list = ['apple', 'banana', 'cherry', 'apple', 'date']\n",
        "\n",
        "# Convert the list to a set\n",
        "string_set = set(string_list)\n",
        "\n",
        "# Print the resulting set\n",
        "print(\"Set of strings:\", string_set)"
      ],
      "metadata": {
        "id": "21tXK3PcIuIo"
      },
      "execution_count": null,
      "outputs": []
    }
  ]
}